{
 "cells": [
  {
   "cell_type": "markdown",
   "metadata": {},
   "source": [
    "## Enron Scandal - Point of Interest analysis"
   ]
  },
  {
   "cell_type": "markdown",
   "metadata": {},
   "source": [
    "### Project Overview"
   ]
  },
  {
   "cell_type": "markdown",
   "metadata": {},
   "source": [
    "In 2000, Enron was one of the largest companies in the United States. By 2002, it had collapsed into bankruptcy due to widespread corporate fraud. In the resulting Federal investigation, there was a significant amount of typically confidential information entered into public record, including tens of thousands of emails and detailed financial data for top executives. In this project, I'm going to play detective, and build a person of interest identifier based on financial and email data made public as a result of the Enron scandal."
   ]
  },
  {
   "cell_type": "markdown",
   "metadata": {},
   "source": [
    "### Import Modules"
   ]
  },
  {
   "cell_type": "code",
   "execution_count": 1,
   "metadata": {
    "collapsed": false
   },
   "outputs": [
    {
     "name": "stderr",
     "output_type": "stream",
     "text": [
      "/home/danny/anaconda3/envs/data2/lib/python2.7/site-packages/sklearn/cross_validation.py:44: DeprecationWarning: This module was deprecated in version 0.18 in favor of the model_selection module into which all the refactored classes and functions are moved. Also note that the interface of the new CV iterators are different from that of this module. This module will be removed in 0.20.\n",
      "  \"This module will be removed in 0.20.\", DeprecationWarning)\n"
     ]
    }
   ],
   "source": [
    "import sys\n",
    "import pickle\n",
    "import numpy\n",
    "import pandas\n",
    "import sklearn\n",
    "\n",
    "sys.path.append(\"../tools/\")\n",
    "\n",
    "from feature_format import featureFormat, targetFeatureSplit\n",
    "from tester import test_classifier, dump_classifier_and_data"
   ]
  },
  {
   "cell_type": "markdown",
   "metadata": {},
   "source": [
    "### Feature Selection"
   ]
  },
  {
   "cell_type": "markdown",
   "metadata": {},
   "source": [
    "All features are selected, filter them and choose the best.\n",
    "\n",
    "All available features fall into three major types of features, namely financial features, email features and POI labels.\n",
    "\n",
    "* financial features: ['salary', 'deferral_payments', 'total_payments', 'loan_advances', 'bonus', 'restricted_stock_deferred', 'deferred_income', 'total_stock_value', 'expenses', 'exercised_stock_options', 'other', 'long_term_incentive', 'restricted_stock', 'director_fees']  (all units are in US dollars)\n",
    "\n",
    "* email features: ['to_messages', 'email_address', 'from_poi_to_this_person', 'from_messages', 'from_this_person_to_poi', 'poi', 'shared_receipt_with_poi'] (units are generally number of emails messages; notable exception is ‘email_address’, which is a text string)\n",
    "\n",
    "* POI label: [‘poi’] (boolean, represented as integer)\n"
   ]
  },
  {
   "cell_type": "code",
   "execution_count": 2,
   "metadata": {
    "collapsed": false
   },
   "outputs": [
    {
     "name": "stdout",
     "output_type": "stream",
     "text": [
      "{'salary': 1111258, 'to_messages': 3627, 'deferral_payments': 'NaN', 'total_payments': 8682716, 'exercised_stock_options': 19250000, 'bonus': 5600000, 'restricted_stock': 6843672, 'shared_receipt_with_poi': 2042, 'restricted_stock_deferred': 'NaN', 'total_stock_value': 26093672, 'expenses': 29336, 'loan_advances': 'NaN', 'from_messages': 108, 'other': 22122, 'from_this_person_to_poi': 30, 'poi': True, 'director_fees': 'NaN', 'deferred_income': 'NaN', 'long_term_incentive': 1920000, 'email_address': 'jeff.skilling@enron.com', 'from_poi_to_this_person': 88}\n"
     ]
    }
   ],
   "source": [
    "## Create features list\n",
    "features_list = ['poi', 'salary', 'to_messages', 'deferral_payments', 'total_payments', \n",
    "                 'loan_advances', 'bonus', 'restricted_stock_deferred', \n",
    "                 'deferred_income', 'total_stock_value', 'expenses', 'from_poi_to_this_person', \n",
    "                 'exercised_stock_options', 'from_messages', 'other', 'from_this_person_to_poi', \n",
    "                 'long_term_incentive', 'shared_receipt_with_poi', 'restricted_stock', 'director_fees'] \n",
    "\n",
    "### Load the dictionary containing the dataset\n",
    "enron_data = pickle.load(open(\"final_project_dataset.pkl\", \"r\") )\n",
    "\n",
    "## Load POI names file\n",
    "f = open(\"poi_names.txt\", \"r\")\n",
    "\n",
    "# Print available information for Jeffrey Skilling\n",
    "print enron_data[\"SKILLING JEFFREY K\"]\n",
    "\n"
   ]
  },
  {
   "cell_type": "markdown",
   "metadata": {},
   "source": [
    "I want my classifier be adopted to 'NaN' variables, so i'm going to reformat dataset to numpy data frame."
   ]
  },
  {
   "cell_type": "code",
   "execution_count": 3,
   "metadata": {
    "collapsed": false
   },
   "outputs": [
    {
     "name": "stdout",
     "output_type": "stream",
     "text": [
      "     bonus deferral_payments deferred_income director_fees  \\\n",
      "0   600000               NaN             NaN           NaN   \n",
      "1  1200000           1295738        -1386055           NaN   \n",
      "2   350000               NaN         -400729           NaN   \n",
      "3      NaN               NaN             NaN           NaN   \n",
      "4  1500000               NaN        -3117011           NaN   \n",
      "\n",
      "              email_address exercised_stock_options expenses from_messages  \\\n",
      "0      mark.metts@enron.com                     NaN    94299            29   \n",
      "1                       NaN                 6680544    11200           NaN   \n",
      "2  steven.elliott@enron.com                 4890344    78552           NaN   \n",
      "3     bill.cordes@enron.com                  651850      NaN            12   \n",
      "4    kevin.hannon@enron.com                 5538001    34039            32   \n",
      "\n",
      "  from_poi_to_this_person from_this_person_to_poi        ...         \\\n",
      "0                      38                       1        ...          \n",
      "1                     NaN                     NaN        ...          \n",
      "2                     NaN                     NaN        ...          \n",
      "3                      10                       0        ...          \n",
      "4                      32                      21        ...          \n",
      "\n",
      "  long_term_incentive    other    poi restricted_stock  \\\n",
      "0                 NaN     1740  False           585062   \n",
      "1             1586055  2660303  False          3942714   \n",
      "2                 NaN    12961  False          1788391   \n",
      "3                 NaN      NaN  False           386335   \n",
      "4             1617011    11350   True           853064   \n",
      "\n",
      "  restricted_stock_deferred  salary shared_receipt_with_poi to_messages  \\\n",
      "0                       NaN  365788                     702         807   \n",
      "1                       NaN  267102                     NaN         NaN   \n",
      "2                       NaN  170941                     NaN         NaN   \n",
      "3                       NaN     NaN                      58         764   \n",
      "4                       NaN  243293                    1035        1045   \n",
      "\n",
      "  total_payments total_stock_value  \n",
      "0        1061827            585062  \n",
      "1        5634343          10623258  \n",
      "2         211725           6678735  \n",
      "3            NaN           1038185  \n",
      "4         288682           6391065  \n",
      "\n",
      "[5 rows x 21 columns]\n"
     ]
    }
   ],
   "source": [
    "df = pandas.DataFrame.from_records(list(enron_data.values()))\n",
    "persons = pandas.Series(list(enron_data.keys()))\n",
    "\n",
    "print df.head()                                                          "
   ]
  },
  {
   "cell_type": "markdown",
   "metadata": {},
   "source": [
    "Looks very good. Let handle 'NaN' values later."
   ]
  },
  {
   "cell_type": "markdown",
   "metadata": {},
   "source": [
    "### Removing Outliers and Handling 'NaN' values"
   ]
  },
  {
   "cell_type": "markdown",
   "metadata": {},
   "source": [
    "Let's define numeric columns list and look at variance without 'NaN'. See how many 'NaN' in each column and make decision about imputing this values or just removing this column from dataset. Also be interesting to see outlieres after imputing and creating tidy dataset."
   ]
  },
  {
   "cell_type": "code",
   "execution_count": 4,
   "metadata": {
    "collapsed": false
   },
   "outputs": [
    {
     "name": "stdout",
     "output_type": "stream",
     "text": [
      "bonus                         64\n",
      "deferral_payments            107\n",
      "deferred_income               97\n",
      "director_fees                129\n",
      "email_address                 35\n",
      "exercised_stock_options       44\n",
      "expenses                      51\n",
      "from_messages                 60\n",
      "from_poi_to_this_person       60\n",
      "from_this_person_to_poi       60\n",
      "loan_advances                142\n",
      "long_term_incentive           80\n",
      "other                         53\n",
      "poi                            0\n",
      "restricted_stock              36\n",
      "restricted_stock_deferred    128\n",
      "salary                        51\n",
      "shared_receipt_with_poi       60\n",
      "to_messages                   60\n",
      "total_payments                21\n",
      "total_stock_value             20\n",
      "dtype: int64\n",
      "(146, 21)\n"
     ]
    }
   ],
   "source": [
    "# Convert to numpy nan\n",
    "df.replace(to_replace='NaN', value=numpy.nan, inplace=True)\n",
    "\n",
    "# Count number of NaN's for columns\n",
    "print df.isnull().sum()\n",
    "\n",
    "# DataFrame dimeansion\n",
    "print df.shape"
   ]
  },
  {
   "cell_type": "markdown",
   "metadata": {},
   "source": [
    "I'm don't want to spend so much time on this and i'll do simple deicision. If NaN counter more that 100, I'm going to remove this column, otherwise I do imputation. "
   ]
  },
  {
   "cell_type": "code",
   "execution_count": 5,
   "metadata": {
    "collapsed": false
   },
   "outputs": [
    {
     "name": "stdout",
     "output_type": "stream",
     "text": [
      "bonus                      0\n",
      "deferred_income            0\n",
      "exercised_stock_options    0\n",
      "expenses                   0\n",
      "from_messages              0\n",
      "from_poi_to_this_person    0\n",
      "from_this_person_to_poi    0\n",
      "long_term_incentive        0\n",
      "other                      0\n",
      "poi                        0\n",
      "restricted_stock           0\n",
      "salary                     0\n",
      "shared_receipt_with_poi    0\n",
      "to_messages                0\n",
      "total_payments             0\n",
      "total_stock_value          0\n",
      "dtype: int64\n",
      "       bonus  deferred_income  exercised_stock_options  expenses  \\\n",
      "0   600000.0              0.0                      0.0   94299.0   \n",
      "1  1200000.0       -1386055.0                6680544.0   11200.0   \n",
      "2   350000.0        -400729.0                4890344.0   78552.0   \n",
      "3        0.0              0.0                 651850.0       0.0   \n",
      "4  1500000.0       -3117011.0                5538001.0   34039.0   \n",
      "\n",
      "   from_messages  from_poi_to_this_person  from_this_person_to_poi  \\\n",
      "0           29.0                     38.0                      1.0   \n",
      "1            0.0                      0.0                      0.0   \n",
      "2            0.0                      0.0                      0.0   \n",
      "3           12.0                     10.0                      0.0   \n",
      "4           32.0                     32.0                     21.0   \n",
      "\n",
      "   long_term_incentive      other    poi  restricted_stock    salary  \\\n",
      "0                  0.0     1740.0  False          585062.0  365788.0   \n",
      "1            1586055.0  2660303.0  False         3942714.0  267102.0   \n",
      "2                  0.0    12961.0  False         1788391.0  170941.0   \n",
      "3                  0.0        0.0  False          386335.0       0.0   \n",
      "4            1617011.0    11350.0   True          853064.0  243293.0   \n",
      "\n",
      "   shared_receipt_with_poi  to_messages  total_payments  total_stock_value  \n",
      "0                    702.0        807.0       1061827.0           585062.0  \n",
      "1                      0.0          0.0       5634343.0         10623258.0  \n",
      "2                      0.0          0.0        211725.0          6678735.0  \n",
      "3                     58.0        764.0             0.0          1038185.0  \n",
      "4                   1035.0       1045.0        288682.0          6391065.0  \n"
     ]
    },
    {
     "data": {
      "text/html": [
       "<div>\n",
       "<table border=\"1\" class=\"dataframe\">\n",
       "  <thead>\n",
       "    <tr style=\"text-align: right;\">\n",
       "      <th></th>\n",
       "      <th>bonus</th>\n",
       "      <th>deferred_income</th>\n",
       "      <th>exercised_stock_options</th>\n",
       "      <th>expenses</th>\n",
       "      <th>from_messages</th>\n",
       "      <th>from_poi_to_this_person</th>\n",
       "      <th>from_this_person_to_poi</th>\n",
       "      <th>long_term_incentive</th>\n",
       "      <th>other</th>\n",
       "      <th>restricted_stock</th>\n",
       "      <th>salary</th>\n",
       "      <th>shared_receipt_with_poi</th>\n",
       "      <th>to_messages</th>\n",
       "      <th>total_payments</th>\n",
       "      <th>total_stock_value</th>\n",
       "    </tr>\n",
       "  </thead>\n",
       "  <tbody>\n",
       "    <tr>\n",
       "      <th>count</th>\n",
       "      <td>1.460000e+02</td>\n",
       "      <td>1.460000e+02</td>\n",
       "      <td>1.460000e+02</td>\n",
       "      <td>1.460000e+02</td>\n",
       "      <td>146.000000</td>\n",
       "      <td>146.000000</td>\n",
       "      <td>146.000000</td>\n",
       "      <td>1.460000e+02</td>\n",
       "      <td>1.460000e+02</td>\n",
       "      <td>1.460000e+02</td>\n",
       "      <td>1.460000e+02</td>\n",
       "      <td>146.000000</td>\n",
       "      <td>146.000000</td>\n",
       "      <td>1.460000e+02</td>\n",
       "      <td>1.460000e+02</td>\n",
       "    </tr>\n",
       "    <tr>\n",
       "      <th>mean</th>\n",
       "      <td>1.333474e+06</td>\n",
       "      <td>-3.827622e+05</td>\n",
       "      <td>4.182736e+06</td>\n",
       "      <td>7.074827e+04</td>\n",
       "      <td>358.602740</td>\n",
       "      <td>38.226027</td>\n",
       "      <td>24.287671</td>\n",
       "      <td>6.646839e+05</td>\n",
       "      <td>5.854318e+05</td>\n",
       "      <td>1.749257e+06</td>\n",
       "      <td>3.658114e+05</td>\n",
       "      <td>692.986301</td>\n",
       "      <td>1221.589041</td>\n",
       "      <td>4.350622e+06</td>\n",
       "      <td>5.846018e+06</td>\n",
       "    </tr>\n",
       "    <tr>\n",
       "      <th>std</th>\n",
       "      <td>8.094029e+06</td>\n",
       "      <td>2.378250e+06</td>\n",
       "      <td>2.607040e+07</td>\n",
       "      <td>4.327163e+05</td>\n",
       "      <td>1441.259868</td>\n",
       "      <td>73.901124</td>\n",
       "      <td>79.278206</td>\n",
       "      <td>4.046072e+06</td>\n",
       "      <td>3.682345e+06</td>\n",
       "      <td>1.089995e+07</td>\n",
       "      <td>2.203575e+06</td>\n",
       "      <td>1072.969492</td>\n",
       "      <td>2226.770637</td>\n",
       "      <td>2.693448e+07</td>\n",
       "      <td>3.624681e+07</td>\n",
       "    </tr>\n",
       "    <tr>\n",
       "      <th>min</th>\n",
       "      <td>0.000000e+00</td>\n",
       "      <td>-2.799289e+07</td>\n",
       "      <td>0.000000e+00</td>\n",
       "      <td>0.000000e+00</td>\n",
       "      <td>0.000000</td>\n",
       "      <td>0.000000</td>\n",
       "      <td>0.000000</td>\n",
       "      <td>0.000000e+00</td>\n",
       "      <td>0.000000e+00</td>\n",
       "      <td>-2.604490e+06</td>\n",
       "      <td>0.000000e+00</td>\n",
       "      <td>0.000000</td>\n",
       "      <td>0.000000</td>\n",
       "      <td>0.000000e+00</td>\n",
       "      <td>-4.409300e+04</td>\n",
       "    </tr>\n",
       "    <tr>\n",
       "      <th>25%</th>\n",
       "      <td>0.000000e+00</td>\n",
       "      <td>-3.792600e+04</td>\n",
       "      <td>0.000000e+00</td>\n",
       "      <td>0.000000e+00</td>\n",
       "      <td>0.000000</td>\n",
       "      <td>0.000000</td>\n",
       "      <td>0.000000</td>\n",
       "      <td>0.000000e+00</td>\n",
       "      <td>0.000000e+00</td>\n",
       "      <td>8.115000e+03</td>\n",
       "      <td>0.000000e+00</td>\n",
       "      <td>0.000000</td>\n",
       "      <td>0.000000</td>\n",
       "      <td>9.394475e+04</td>\n",
       "      <td>2.288695e+05</td>\n",
       "    </tr>\n",
       "    <tr>\n",
       "      <th>50%</th>\n",
       "      <td>3.000000e+05</td>\n",
       "      <td>0.000000e+00</td>\n",
       "      <td>6.082935e+05</td>\n",
       "      <td>2.018200e+04</td>\n",
       "      <td>16.500000</td>\n",
       "      <td>2.500000</td>\n",
       "      <td>0.000000</td>\n",
       "      <td>0.000000e+00</td>\n",
       "      <td>9.595000e+02</td>\n",
       "      <td>3.605280e+05</td>\n",
       "      <td>2.105960e+05</td>\n",
       "      <td>102.500000</td>\n",
       "      <td>289.000000</td>\n",
       "      <td>9.413595e+05</td>\n",
       "      <td>9.659550e+05</td>\n",
       "    </tr>\n",
       "    <tr>\n",
       "      <th>75%</th>\n",
       "      <td>8.000000e+05</td>\n",
       "      <td>0.000000e+00</td>\n",
       "      <td>1.714221e+06</td>\n",
       "      <td>5.374075e+04</td>\n",
       "      <td>51.250000</td>\n",
       "      <td>40.750000</td>\n",
       "      <td>13.750000</td>\n",
       "      <td>3.750648e+05</td>\n",
       "      <td>1.506065e+05</td>\n",
       "      <td>8.145280e+05</td>\n",
       "      <td>2.708505e+05</td>\n",
       "      <td>893.500000</td>\n",
       "      <td>1585.750000</td>\n",
       "      <td>1.968287e+06</td>\n",
       "      <td>2.319991e+06</td>\n",
       "    </tr>\n",
       "    <tr>\n",
       "      <th>max</th>\n",
       "      <td>9.734362e+07</td>\n",
       "      <td>0.000000e+00</td>\n",
       "      <td>3.117640e+08</td>\n",
       "      <td>5.235198e+06</td>\n",
       "      <td>14368.000000</td>\n",
       "      <td>528.000000</td>\n",
       "      <td>609.000000</td>\n",
       "      <td>4.852193e+07</td>\n",
       "      <td>4.266759e+07</td>\n",
       "      <td>1.303223e+08</td>\n",
       "      <td>2.670423e+07</td>\n",
       "      <td>5521.000000</td>\n",
       "      <td>15149.000000</td>\n",
       "      <td>3.098866e+08</td>\n",
       "      <td>4.345095e+08</td>\n",
       "    </tr>\n",
       "  </tbody>\n",
       "</table>\n",
       "</div>"
      ],
      "text/plain": [
       "              bonus  deferred_income  exercised_stock_options      expenses  \\\n",
       "count  1.460000e+02     1.460000e+02             1.460000e+02  1.460000e+02   \n",
       "mean   1.333474e+06    -3.827622e+05             4.182736e+06  7.074827e+04   \n",
       "std    8.094029e+06     2.378250e+06             2.607040e+07  4.327163e+05   \n",
       "min    0.000000e+00    -2.799289e+07             0.000000e+00  0.000000e+00   \n",
       "25%    0.000000e+00    -3.792600e+04             0.000000e+00  0.000000e+00   \n",
       "50%    3.000000e+05     0.000000e+00             6.082935e+05  2.018200e+04   \n",
       "75%    8.000000e+05     0.000000e+00             1.714221e+06  5.374075e+04   \n",
       "max    9.734362e+07     0.000000e+00             3.117640e+08  5.235198e+06   \n",
       "\n",
       "       from_messages  from_poi_to_this_person  from_this_person_to_poi  \\\n",
       "count     146.000000               146.000000               146.000000   \n",
       "mean      358.602740                38.226027                24.287671   \n",
       "std      1441.259868                73.901124                79.278206   \n",
       "min         0.000000                 0.000000                 0.000000   \n",
       "25%         0.000000                 0.000000                 0.000000   \n",
       "50%        16.500000                 2.500000                 0.000000   \n",
       "75%        51.250000                40.750000                13.750000   \n",
       "max     14368.000000               528.000000               609.000000   \n",
       "\n",
       "       long_term_incentive         other  restricted_stock        salary  \\\n",
       "count         1.460000e+02  1.460000e+02      1.460000e+02  1.460000e+02   \n",
       "mean          6.646839e+05  5.854318e+05      1.749257e+06  3.658114e+05   \n",
       "std           4.046072e+06  3.682345e+06      1.089995e+07  2.203575e+06   \n",
       "min           0.000000e+00  0.000000e+00     -2.604490e+06  0.000000e+00   \n",
       "25%           0.000000e+00  0.000000e+00      8.115000e+03  0.000000e+00   \n",
       "50%           0.000000e+00  9.595000e+02      3.605280e+05  2.105960e+05   \n",
       "75%           3.750648e+05  1.506065e+05      8.145280e+05  2.708505e+05   \n",
       "max           4.852193e+07  4.266759e+07      1.303223e+08  2.670423e+07   \n",
       "\n",
       "       shared_receipt_with_poi   to_messages  total_payments  \\\n",
       "count               146.000000    146.000000    1.460000e+02   \n",
       "mean                692.986301   1221.589041    4.350622e+06   \n",
       "std                1072.969492   2226.770637    2.693448e+07   \n",
       "min                   0.000000      0.000000    0.000000e+00   \n",
       "25%                   0.000000      0.000000    9.394475e+04   \n",
       "50%                 102.500000    289.000000    9.413595e+05   \n",
       "75%                 893.500000   1585.750000    1.968287e+06   \n",
       "max                5521.000000  15149.000000    3.098866e+08   \n",
       "\n",
       "       total_stock_value  \n",
       "count       1.460000e+02  \n",
       "mean        5.846018e+06  \n",
       "std         3.624681e+07  \n",
       "min        -4.409300e+04  \n",
       "25%         2.288695e+05  \n",
       "50%         9.659550e+05  \n",
       "75%         2.319991e+06  \n",
       "max         4.345095e+08  "
      ]
     },
     "execution_count": 5,
     "metadata": {},
     "output_type": "execute_result"
    }
   ],
   "source": [
    "# Removing column from database if counter > 100\n",
    "\n",
    "for column, series in df.iteritems():\n",
    "    if series.isnull().sum() > 100:\n",
    "        df.drop(column, axis=1, inplace=True)\n",
    "       \n",
    "# Drop email address column\n",
    "if 'email_address' in list(df.columns.values):\n",
    "    df.drop('email_address', axis=1, inplace=True)\n",
    "\n",
    "        \n",
    "#impute = sklearn.preprocessing.Imputer(missing_values=numpy.nan, strategy='mean', axis=0)\n",
    "#impute.fit(df)\n",
    "\n",
    "#df_imp = pandas.DataFrame(impute.transform(df.copy(deep=True)))\n",
    "df_imp = df.replace(to_replace=numpy.nan, value=0)\n",
    "df_imp = df.fillna(0).copy(deep=True)\n",
    "df_imp.columns = list(df.columns.values)\n",
    "print df_imp.isnull().sum()\n",
    "print df_imp.head()\n",
    "\n",
    "df_imp.describe()"
   ]
  },
  {
   "cell_type": "markdown",
   "metadata": {},
   "source": [
    "Just from summary we can explore big amount of outliers using max and .75 quantile. Actually i don't think that these are outliers or wrong data, it's just extreme values for some persons. Let's explore persons names at first."
   ]
  },
  {
   "cell_type": "code",
   "execution_count": 6,
   "metadata": {
    "collapsed": false
   },
   "outputs": [
    {
     "name": "stdout",
     "output_type": "stream",
     "text": [
      "['METTS MARK', 'BAXTER JOHN C', 'ELLIOTT STEVEN', 'CORDES WILLIAM R', 'HANNON KEVIN P', 'MORDAUNT KRISTINA M', 'MEYER ROCKFORD G', 'MCMAHON JEFFREY', 'HORTON STANLEY C', 'PIPER GREGORY F', 'HUMPHREY GENE E', 'UMANOFF ADAM S', 'BLACHMAN JEREMY M', 'SUNDE MARTIN', 'GIBBS DANA R', 'LOWRY CHARLES P', 'COLWELL WESLEY', 'MULLER MARK S', 'JACKSON CHARLENE R', 'WESTFAHL RICHARD K', 'WALTERS GARETH W', 'WALLS JR ROBERT H', 'KITCHEN LOUISE', 'CHAN RONNIE', 'BELFER ROBERT', 'SHANKMAN JEFFREY A', 'WODRASKA JOHN', 'BERGSIEKER RICHARD P', 'URQUHART JOHN A', 'BIBI PHILIPPE A', 'RIEKER PAULA H', 'WHALEY DAVID A', 'BECK SALLY W', 'HAUG DAVID L', 'ECHOLS JOHN B', 'MENDELSOHN JOHN', 'HICKERSON GARY J', 'CLINE KENNETH W', 'LEWIS RICHARD', 'HAYES ROBERT E', 'MCCARTY DANNY J', 'KOPPER MICHAEL J', 'LEFF DANIEL P', 'LAVORATO JOHN J', 'BERBERIAN DAVID', 'DETMERING TIMOTHY J', 'WAKEHAM JOHN', 'POWERS WILLIAM', 'GOLD JOSEPH', 'BANNANTINE JAMES M', 'DUNCAN JOHN H', 'SHAPIRO RICHARD S', 'SHERRIFF JOHN R', 'SHELBY REX', 'LEMAISTRE CHARLES', 'DEFFNER JOSEPH M', 'KISHKILL JOSEPH G', 'WHALLEY LAWRENCE G', 'MCCONNELL MICHAEL S', 'PIRO JIM', 'DELAINEY DAVID W', 'SULLIVAN-SHAKLOVITZ COLLEEN', 'WROBEL BRUCE', 'LINDHOLM TOD A', 'MEYER JEROME J', 'LAY KENNETH L', 'BUTTS ROBERT H', 'OLSON CINDY K', 'MCDONALD REBECCA', 'CUMBERLAND MICHAEL S', 'GAHN ROBERT S', 'MCCLELLAN GEORGE', 'HERMANN ROBERT J', 'SCRIMSHAW MATTHEW', 'GATHMANN WILLIAM D', 'HAEDICKE MARK E', 'BOWEN JR RAYMOND M', 'GILLIS JOHN', 'FITZGERALD JAY L', 'MORAN MICHAEL P', 'REDMOND BRIAN L', 'BAZELIDES PHILIP J', 'BELDEN TIMOTHY N', 'DURAN WILLIAM D', 'THORN TERENCE H', 'FASTOW ANDREW S', 'FOY JOE', 'CALGER CHRISTOPHER F', 'RICE KENNETH D', 'KAMINSKI WINCENTY J', 'LOCKHART EUGENE E', 'COX DAVID', 'OVERDYKE JR JERE C', 'PEREIRA PAULO V. FERRAZ', 'STABLER FRANK', 'SKILLING JEFFREY K', 'BLAKE JR. NORMAN P', 'SHERRICK JEFFREY B', 'PRENTICE JAMES', 'GRAY RODNEY', 'PICKERING MARK R', 'THE TRAVEL AGENCY IN THE PARK', 'NOLES JAMES L', 'KEAN STEVEN J', 'TOTAL', 'FOWLER PEGGY', 'WASAFF GEORGE', 'WHITE JR THOMAS E', 'CHRISTODOULOU DIOMEDES', 'ALLEN PHILLIP K', 'SHARP VICTORIA T', 'JAEDICKE ROBERT', 'WINOKUR JR. HERBERT S', 'BROWN MICHAEL', 'BADUM JAMES P', 'HUGHES JAMES A', 'REYNOLDS LAWRENCE', 'DIMICHELE RICHARD G', 'BHATNAGAR SANJAY', 'CARTER REBECCA C', 'BUCHANAN HAROLD G', 'YEAP SOON', 'MURRAY JULIA H', 'GARLAND C KEVIN', 'DODSON KEITH', 'YEAGER F SCOTT', 'HIRKO JOSEPH', 'DIETRICH JANET R', 'DERRICK JR. JAMES V', 'FREVERT MARK A', 'PAI LOU L', 'BAY FRANKLIN R', 'HAYSLETT RODERICK J', 'FUGH JOHN L', 'FALLON JAMES B', 'KOENIG MARK E', 'SAVAGE FRANK', 'IZZO LAWRENCE L', 'TILNEY ELIZABETH A', 'MARTIN AMANDA K', 'BUY RICHARD B', 'GRAMM WENDY L', 'CAUSEY RICHARD A', 'TAYLOR MITCHELL S', 'DONAHUE JR JEFFREY M', 'GLISAN JR BEN F']\n"
     ]
    }
   ],
   "source": [
    "print (enron_data.keys())"
   ]
  },
  {
   "cell_type": "code",
   "execution_count": 7,
   "metadata": {
    "collapsed": false
   },
   "outputs": [
    {
     "name": "stdout",
     "output_type": "stream",
     "text": [
      "104\n",
      "101\n"
     ]
    },
    {
     "data": {
      "text/html": [
       "<div>\n",
       "<table border=\"1\" class=\"dataframe\">\n",
       "  <thead>\n",
       "    <tr style=\"text-align: right;\">\n",
       "      <th></th>\n",
       "      <th>bonus</th>\n",
       "      <th>deferred_income</th>\n",
       "      <th>exercised_stock_options</th>\n",
       "      <th>expenses</th>\n",
       "      <th>from_messages</th>\n",
       "      <th>from_poi_to_this_person</th>\n",
       "      <th>from_this_person_to_poi</th>\n",
       "      <th>long_term_incentive</th>\n",
       "      <th>other</th>\n",
       "      <th>restricted_stock</th>\n",
       "      <th>salary</th>\n",
       "      <th>shared_receipt_with_poi</th>\n",
       "      <th>to_messages</th>\n",
       "      <th>total_payments</th>\n",
       "      <th>total_stock_value</th>\n",
       "    </tr>\n",
       "  </thead>\n",
       "  <tbody>\n",
       "    <tr>\n",
       "      <th>count</th>\n",
       "      <td>1.440000e+02</td>\n",
       "      <td>1.440000e+02</td>\n",
       "      <td>1.440000e+02</td>\n",
       "      <td>144.000000</td>\n",
       "      <td>144.000000</td>\n",
       "      <td>144.000000</td>\n",
       "      <td>144.000000</td>\n",
       "      <td>1.440000e+02</td>\n",
       "      <td>1.440000e+02</td>\n",
       "      <td>1.440000e+02</td>\n",
       "      <td>1.440000e+02</td>\n",
       "      <td>144.000000</td>\n",
       "      <td>144.000000</td>\n",
       "      <td>1.440000e+02</td>\n",
       "      <td>1.440000e+02</td>\n",
       "    </tr>\n",
       "    <tr>\n",
       "      <th>mean</th>\n",
       "      <td>6.759974e+05</td>\n",
       "      <td>-1.936833e+05</td>\n",
       "      <td>2.075802e+06</td>\n",
       "      <td>35375.340278</td>\n",
       "      <td>363.583333</td>\n",
       "      <td>38.756944</td>\n",
       "      <td>24.625000</td>\n",
       "      <td>3.369578e+05</td>\n",
       "      <td>2.947455e+05</td>\n",
       "      <td>8.685363e+05</td>\n",
       "      <td>1.854460e+05</td>\n",
       "      <td>702.611111</td>\n",
       "      <td>1238.555556</td>\n",
       "      <td>2.256543e+06</td>\n",
       "      <td>2.909786e+06</td>\n",
       "    </tr>\n",
       "    <tr>\n",
       "      <th>std</th>\n",
       "      <td>1.233155e+06</td>\n",
       "      <td>6.060111e+05</td>\n",
       "      <td>4.795513e+06</td>\n",
       "      <td>45309.303038</td>\n",
       "      <td>1450.675239</td>\n",
       "      <td>74.276769</td>\n",
       "      <td>79.778266</td>\n",
       "      <td>6.871826e+05</td>\n",
       "      <td>1.131325e+06</td>\n",
       "      <td>2.016572e+06</td>\n",
       "      <td>1.970421e+05</td>\n",
       "      <td>1077.290736</td>\n",
       "      <td>2237.564816</td>\n",
       "      <td>8.847189e+06</td>\n",
       "      <td>6.189018e+06</td>\n",
       "    </tr>\n",
       "    <tr>\n",
       "      <th>min</th>\n",
       "      <td>0.000000e+00</td>\n",
       "      <td>-3.504386e+06</td>\n",
       "      <td>0.000000e+00</td>\n",
       "      <td>0.000000</td>\n",
       "      <td>0.000000</td>\n",
       "      <td>0.000000</td>\n",
       "      <td>0.000000</td>\n",
       "      <td>0.000000e+00</td>\n",
       "      <td>0.000000e+00</td>\n",
       "      <td>-2.604490e+06</td>\n",
       "      <td>0.000000e+00</td>\n",
       "      <td>0.000000</td>\n",
       "      <td>0.000000</td>\n",
       "      <td>0.000000e+00</td>\n",
       "      <td>-4.409300e+04</td>\n",
       "    </tr>\n",
       "    <tr>\n",
       "      <th>25%</th>\n",
       "      <td>0.000000e+00</td>\n",
       "      <td>-3.708600e+04</td>\n",
       "      <td>0.000000e+00</td>\n",
       "      <td>0.000000</td>\n",
       "      <td>0.000000</td>\n",
       "      <td>0.000000</td>\n",
       "      <td>0.000000</td>\n",
       "      <td>0.000000e+00</td>\n",
       "      <td>0.000000e+00</td>\n",
       "      <td>2.434500e+04</td>\n",
       "      <td>0.000000e+00</td>\n",
       "      <td>0.000000</td>\n",
       "      <td>0.000000</td>\n",
       "      <td>9.019275e+04</td>\n",
       "      <td>2.443265e+05</td>\n",
       "    </tr>\n",
       "    <tr>\n",
       "      <th>50%</th>\n",
       "      <td>3.000000e+05</td>\n",
       "      <td>0.000000e+00</td>\n",
       "      <td>6.082935e+05</td>\n",
       "      <td>20182.000000</td>\n",
       "      <td>17.500000</td>\n",
       "      <td>4.000000</td>\n",
       "      <td>0.000000</td>\n",
       "      <td>0.000000e+00</td>\n",
       "      <td>9.190000e+02</td>\n",
       "      <td>3.605280e+05</td>\n",
       "      <td>2.105960e+05</td>\n",
       "      <td>114.000000</td>\n",
       "      <td>347.500000</td>\n",
       "      <td>9.413595e+05</td>\n",
       "      <td>9.659550e+05</td>\n",
       "    </tr>\n",
       "    <tr>\n",
       "      <th>75%</th>\n",
       "      <td>8.000000e+05</td>\n",
       "      <td>0.000000e+00</td>\n",
       "      <td>1.683580e+06</td>\n",
       "      <td>53328.250000</td>\n",
       "      <td>53.000000</td>\n",
       "      <td>41.250000</td>\n",
       "      <td>14.000000</td>\n",
       "      <td>3.745862e+05</td>\n",
       "      <td>1.485770e+05</td>\n",
       "      <td>7.374560e+05</td>\n",
       "      <td>2.696675e+05</td>\n",
       "      <td>933.750000</td>\n",
       "      <td>1623.000000</td>\n",
       "      <td>1.945668e+06</td>\n",
       "      <td>2.295176e+06</td>\n",
       "    </tr>\n",
       "    <tr>\n",
       "      <th>max</th>\n",
       "      <td>8.000000e+06</td>\n",
       "      <td>0.000000e+00</td>\n",
       "      <td>3.434838e+07</td>\n",
       "      <td>228763.000000</td>\n",
       "      <td>14368.000000</td>\n",
       "      <td>528.000000</td>\n",
       "      <td>609.000000</td>\n",
       "      <td>5.145434e+06</td>\n",
       "      <td>1.035973e+07</td>\n",
       "      <td>1.476169e+07</td>\n",
       "      <td>1.111258e+06</td>\n",
       "      <td>5521.000000</td>\n",
       "      <td>15149.000000</td>\n",
       "      <td>1.035598e+08</td>\n",
       "      <td>4.911008e+07</td>\n",
       "    </tr>\n",
       "  </tbody>\n",
       "</table>\n",
       "</div>"
      ],
      "text/plain": [
       "              bonus  deferred_income  exercised_stock_options       expenses  \\\n",
       "count  1.440000e+02     1.440000e+02             1.440000e+02     144.000000   \n",
       "mean   6.759974e+05    -1.936833e+05             2.075802e+06   35375.340278   \n",
       "std    1.233155e+06     6.060111e+05             4.795513e+06   45309.303038   \n",
       "min    0.000000e+00    -3.504386e+06             0.000000e+00       0.000000   \n",
       "25%    0.000000e+00    -3.708600e+04             0.000000e+00       0.000000   \n",
       "50%    3.000000e+05     0.000000e+00             6.082935e+05   20182.000000   \n",
       "75%    8.000000e+05     0.000000e+00             1.683580e+06   53328.250000   \n",
       "max    8.000000e+06     0.000000e+00             3.434838e+07  228763.000000   \n",
       "\n",
       "       from_messages  from_poi_to_this_person  from_this_person_to_poi  \\\n",
       "count     144.000000               144.000000               144.000000   \n",
       "mean      363.583333                38.756944                24.625000   \n",
       "std      1450.675239                74.276769                79.778266   \n",
       "min         0.000000                 0.000000                 0.000000   \n",
       "25%         0.000000                 0.000000                 0.000000   \n",
       "50%        17.500000                 4.000000                 0.000000   \n",
       "75%        53.000000                41.250000                14.000000   \n",
       "max     14368.000000               528.000000               609.000000   \n",
       "\n",
       "       long_term_incentive         other  restricted_stock        salary  \\\n",
       "count         1.440000e+02  1.440000e+02      1.440000e+02  1.440000e+02   \n",
       "mean          3.369578e+05  2.947455e+05      8.685363e+05  1.854460e+05   \n",
       "std           6.871826e+05  1.131325e+06      2.016572e+06  1.970421e+05   \n",
       "min           0.000000e+00  0.000000e+00     -2.604490e+06  0.000000e+00   \n",
       "25%           0.000000e+00  0.000000e+00      2.434500e+04  0.000000e+00   \n",
       "50%           0.000000e+00  9.190000e+02      3.605280e+05  2.105960e+05   \n",
       "75%           3.745862e+05  1.485770e+05      7.374560e+05  2.696675e+05   \n",
       "max           5.145434e+06  1.035973e+07      1.476169e+07  1.111258e+06   \n",
       "\n",
       "       shared_receipt_with_poi   to_messages  total_payments  \\\n",
       "count               144.000000    144.000000    1.440000e+02   \n",
       "mean                702.611111   1238.555556    2.256543e+06   \n",
       "std                1077.290736   2237.564816    8.847189e+06   \n",
       "min                   0.000000      0.000000    0.000000e+00   \n",
       "25%                   0.000000      0.000000    9.019275e+04   \n",
       "50%                 114.000000    347.500000    9.413595e+05   \n",
       "75%                 933.750000   1623.000000    1.945668e+06   \n",
       "max                5521.000000  15149.000000    1.035598e+08   \n",
       "\n",
       "       total_stock_value  \n",
       "count       1.440000e+02  \n",
       "mean        2.909786e+06  \n",
       "std         6.189018e+06  \n",
       "min        -4.409300e+04  \n",
       "25%         2.443265e+05  \n",
       "50%         9.659550e+05  \n",
       "75%         2.295176e+06  \n",
       "max         4.911008e+07  "
      ]
     },
     "execution_count": 7,
     "metadata": {},
     "output_type": "execute_result"
    }
   ],
   "source": [
    "total_index = enron_data.keys().index(\"TOTAL\")\n",
    "print(total_index)\n",
    "travel_index = enron_data.keys().index(\"THE TRAVEL AGENCY IN THE PARK\")\n",
    "print(travel_index)\n",
    "df_subset = df_imp.drop(df_imp.index[[total_index,travel_index]])\n",
    "df_subset.describe()"
   ]
  },
  {
   "cell_type": "markdown",
   "metadata": {},
   "source": [
    "After this feature engineering let's explore what values do we have and data dimension."
   ]
  },
  {
   "cell_type": "code",
   "execution_count": 8,
   "metadata": {
    "collapsed": false
   },
   "outputs": [
    {
     "name": "stdout",
     "output_type": "stream",
     "text": [
      "Values: ['bonus', 'deferred_income', 'exercised_stock_options', 'expenses', 'from_messages', 'from_poi_to_this_person', 'from_this_person_to_poi', 'long_term_incentive', 'other', 'poi', 'restricted_stock', 'salary', 'shared_receipt_with_poi', 'to_messages', 'total_payments', 'total_stock_value']\n",
      "Shape:  (144, 16)\n",
      "Number of POI in DataSet:  18\n",
      "Number of non-POI in Dataset:  126\n"
     ]
    }
   ],
   "source": [
    "print \"Values:\", list(df_subset.columns.values)\n",
    "\n",
    "print \"Shape: \", df_subset.shape\n",
    "\n",
    "print \"Number of POI in DataSet: \", (df_subset['poi'] == 1).sum()\n",
    "print \"Number of non-POI in Dataset: \", (df_subset['poi'] == 0).sum()"
   ]
  },
  {
   "cell_type": "markdown",
   "metadata": {},
   "source": [
    "### Creating new Features"
   ]
  },
  {
   "cell_type": "markdown",
   "metadata": {},
   "source": [
    "In my opinion very useful feature is the ratio between messages connected with poi and all messages. I'm going to name this variable 'poi_ratio'. This variable store ratio in percentages. \n",
    "Also will be added next features:\n",
    "\n",
    "- the fraction of all emails to a person that were sent from a person of interest\n",
    "- the fraction of all emails that a person sent that were addressed to persons of interest\n",
    "\n",
    "The hypothesis behind these features was that there might be stronger email connections between POIs than between POIs and non-POIs, and a scatterplot of these two features suggests that there might be some truth to that hypothesis.\n",
    "\n",
    "Additionally i want to scale 'salary' to range [0,100].\n"
   ]
  },
  {
   "cell_type": "code",
   "execution_count": 9,
   "metadata": {
    "collapsed": false
   },
   "outputs": [
    {
     "name": "stderr",
     "output_type": "stream",
     "text": [
      "/home/danny/anaconda3/envs/data2/lib/python2.7/site-packages/sklearn/preprocessing/data.py:321: DeprecationWarning: Passing 1d arrays as data is deprecated in 0.17 and will raise ValueError in 0.19. Reshape your data either using X.reshape(-1, 1) if your data has a single feature or X.reshape(1, -1) if it contains a single sample.\n",
      "  warnings.warn(DEPRECATION_MSG_1D, DeprecationWarning)\n",
      "/home/danny/anaconda3/envs/data2/lib/python2.7/site-packages/sklearn/preprocessing/data.py:356: DeprecationWarning: Passing 1d arrays as data is deprecated in 0.17 and will raise ValueError in 0.19. Reshape your data either using X.reshape(-1, 1) if your data has a single feature or X.reshape(1, -1) if it contains a single sample.\n",
      "  warnings.warn(DEPRECATION_MSG_1D, DeprecationWarning)\n"
     ]
    },
    {
     "data": {
      "text/html": [
       "<div>\n",
       "<table border=\"1\" class=\"dataframe\">\n",
       "  <thead>\n",
       "    <tr style=\"text-align: right;\">\n",
       "      <th></th>\n",
       "      <th>bonus</th>\n",
       "      <th>deferred_income</th>\n",
       "      <th>exercised_stock_options</th>\n",
       "      <th>expenses</th>\n",
       "      <th>from_messages</th>\n",
       "      <th>from_poi_to_this_person</th>\n",
       "      <th>from_this_person_to_poi</th>\n",
       "      <th>long_term_incentive</th>\n",
       "      <th>other</th>\n",
       "      <th>restricted_stock</th>\n",
       "      <th>salary</th>\n",
       "      <th>shared_receipt_with_poi</th>\n",
       "      <th>to_messages</th>\n",
       "      <th>total_payments</th>\n",
       "      <th>total_stock_value</th>\n",
       "      <th>poi_ratio</th>\n",
       "      <th>fraction_to_poi</th>\n",
       "      <th>fraction_from_poi</th>\n",
       "    </tr>\n",
       "  </thead>\n",
       "  <tbody>\n",
       "    <tr>\n",
       "      <th>count</th>\n",
       "      <td>1.440000e+02</td>\n",
       "      <td>1.440000e+02</td>\n",
       "      <td>1.440000e+02</td>\n",
       "      <td>144.000000</td>\n",
       "      <td>144.000000</td>\n",
       "      <td>144.000000</td>\n",
       "      <td>144.000000</td>\n",
       "      <td>1.440000e+02</td>\n",
       "      <td>1.440000e+02</td>\n",
       "      <td>1.440000e+02</td>\n",
       "      <td>1.440000e+02</td>\n",
       "      <td>144.000000</td>\n",
       "      <td>144.000000</td>\n",
       "      <td>1.440000e+02</td>\n",
       "      <td>1.440000e+02</td>\n",
       "      <td>86.000000</td>\n",
       "      <td>86.000000</td>\n",
       "      <td>86.000000</td>\n",
       "    </tr>\n",
       "    <tr>\n",
       "      <th>mean</th>\n",
       "      <td>6.759974e+05</td>\n",
       "      <td>-1.936833e+05</td>\n",
       "      <td>2.075802e+06</td>\n",
       "      <td>35375.340278</td>\n",
       "      <td>363.583333</td>\n",
       "      <td>38.756944</td>\n",
       "      <td>24.625000</td>\n",
       "      <td>3.369578e+05</td>\n",
       "      <td>2.947455e+05</td>\n",
       "      <td>8.685363e+05</td>\n",
       "      <td>1.854460e+05</td>\n",
       "      <td>702.611111</td>\n",
       "      <td>1238.555556</td>\n",
       "      <td>2.256543e+06</td>\n",
       "      <td>2.909786e+06</td>\n",
       "      <td>4.770893</td>\n",
       "      <td>18.405548</td>\n",
       "      <td>3.796298</td>\n",
       "    </tr>\n",
       "    <tr>\n",
       "      <th>std</th>\n",
       "      <td>1.233155e+06</td>\n",
       "      <td>6.060111e+05</td>\n",
       "      <td>4.795513e+06</td>\n",
       "      <td>45309.303038</td>\n",
       "      <td>1450.675239</td>\n",
       "      <td>74.276769</td>\n",
       "      <td>79.778266</td>\n",
       "      <td>6.871826e+05</td>\n",
       "      <td>1.131325e+06</td>\n",
       "      <td>2.016572e+06</td>\n",
       "      <td>1.970421e+05</td>\n",
       "      <td>1077.290736</td>\n",
       "      <td>2237.564816</td>\n",
       "      <td>8.847189e+06</td>\n",
       "      <td>6.189018e+06</td>\n",
       "      <td>4.645513</td>\n",
       "      <td>21.061035</td>\n",
       "      <td>4.054439</td>\n",
       "    </tr>\n",
       "    <tr>\n",
       "      <th>min</th>\n",
       "      <td>0.000000e+00</td>\n",
       "      <td>-3.504386e+06</td>\n",
       "      <td>0.000000e+00</td>\n",
       "      <td>0.000000</td>\n",
       "      <td>0.000000</td>\n",
       "      <td>0.000000</td>\n",
       "      <td>0.000000</td>\n",
       "      <td>0.000000e+00</td>\n",
       "      <td>0.000000e+00</td>\n",
       "      <td>-2.604490e+06</td>\n",
       "      <td>0.000000e+00</td>\n",
       "      <td>0.000000</td>\n",
       "      <td>0.000000</td>\n",
       "      <td>0.000000e+00</td>\n",
       "      <td>-4.409300e+04</td>\n",
       "      <td>0.000000</td>\n",
       "      <td>0.000000</td>\n",
       "      <td>0.000000</td>\n",
       "    </tr>\n",
       "    <tr>\n",
       "      <th>25%</th>\n",
       "      <td>0.000000e+00</td>\n",
       "      <td>-3.708600e+04</td>\n",
       "      <td>0.000000e+00</td>\n",
       "      <td>0.000000</td>\n",
       "      <td>0.000000</td>\n",
       "      <td>0.000000</td>\n",
       "      <td>0.000000</td>\n",
       "      <td>0.000000e+00</td>\n",
       "      <td>0.000000e+00</td>\n",
       "      <td>2.434500e+04</td>\n",
       "      <td>0.000000e+00</td>\n",
       "      <td>0.000000</td>\n",
       "      <td>0.000000</td>\n",
       "      <td>9.019275e+04</td>\n",
       "      <td>2.443265e+05</td>\n",
       "      <td>1.304333</td>\n",
       "      <td>1.242096</td>\n",
       "      <td>0.919988</td>\n",
       "    </tr>\n",
       "    <tr>\n",
       "      <th>50%</th>\n",
       "      <td>3.000000e+05</td>\n",
       "      <td>0.000000e+00</td>\n",
       "      <td>6.082935e+05</td>\n",
       "      <td>20182.000000</td>\n",
       "      <td>17.500000</td>\n",
       "      <td>4.000000</td>\n",
       "      <td>0.000000</td>\n",
       "      <td>0.000000e+00</td>\n",
       "      <td>9.190000e+02</td>\n",
       "      <td>3.605280e+05</td>\n",
       "      <td>2.105960e+05</td>\n",
       "      <td>114.000000</td>\n",
       "      <td>347.500000</td>\n",
       "      <td>9.413595e+05</td>\n",
       "      <td>9.659550e+05</td>\n",
       "      <td>3.176610</td>\n",
       "      <td>10.057359</td>\n",
       "      <td>2.584537</td>\n",
       "    </tr>\n",
       "    <tr>\n",
       "      <th>75%</th>\n",
       "      <td>8.000000e+05</td>\n",
       "      <td>0.000000e+00</td>\n",
       "      <td>1.683580e+06</td>\n",
       "      <td>53328.250000</td>\n",
       "      <td>53.000000</td>\n",
       "      <td>41.250000</td>\n",
       "      <td>14.000000</td>\n",
       "      <td>3.745862e+05</td>\n",
       "      <td>1.485770e+05</td>\n",
       "      <td>7.374560e+05</td>\n",
       "      <td>2.696675e+05</td>\n",
       "      <td>933.750000</td>\n",
       "      <td>1623.000000</td>\n",
       "      <td>1.945668e+06</td>\n",
       "      <td>2.295176e+06</td>\n",
       "      <td>6.696795</td>\n",
       "      <td>27.203947</td>\n",
       "      <td>5.608871</td>\n",
       "    </tr>\n",
       "    <tr>\n",
       "      <th>max</th>\n",
       "      <td>8.000000e+06</td>\n",
       "      <td>0.000000e+00</td>\n",
       "      <td>3.434838e+07</td>\n",
       "      <td>228763.000000</td>\n",
       "      <td>14368.000000</td>\n",
       "      <td>528.000000</td>\n",
       "      <td>609.000000</td>\n",
       "      <td>5.145434e+06</td>\n",
       "      <td>1.035973e+07</td>\n",
       "      <td>1.476169e+07</td>\n",
       "      <td>1.111258e+06</td>\n",
       "      <td>5521.000000</td>\n",
       "      <td>15149.000000</td>\n",
       "      <td>1.035598e+08</td>\n",
       "      <td>4.911008e+07</td>\n",
       "      <td>22.435175</td>\n",
       "      <td>100.000000</td>\n",
       "      <td>21.734104</td>\n",
       "    </tr>\n",
       "  </tbody>\n",
       "</table>\n",
       "</div>"
      ],
      "text/plain": [
       "              bonus  deferred_income  exercised_stock_options       expenses  \\\n",
       "count  1.440000e+02     1.440000e+02             1.440000e+02     144.000000   \n",
       "mean   6.759974e+05    -1.936833e+05             2.075802e+06   35375.340278   \n",
       "std    1.233155e+06     6.060111e+05             4.795513e+06   45309.303038   \n",
       "min    0.000000e+00    -3.504386e+06             0.000000e+00       0.000000   \n",
       "25%    0.000000e+00    -3.708600e+04             0.000000e+00       0.000000   \n",
       "50%    3.000000e+05     0.000000e+00             6.082935e+05   20182.000000   \n",
       "75%    8.000000e+05     0.000000e+00             1.683580e+06   53328.250000   \n",
       "max    8.000000e+06     0.000000e+00             3.434838e+07  228763.000000   \n",
       "\n",
       "       from_messages  from_poi_to_this_person  from_this_person_to_poi  \\\n",
       "count     144.000000               144.000000               144.000000   \n",
       "mean      363.583333                38.756944                24.625000   \n",
       "std      1450.675239                74.276769                79.778266   \n",
       "min         0.000000                 0.000000                 0.000000   \n",
       "25%         0.000000                 0.000000                 0.000000   \n",
       "50%        17.500000                 4.000000                 0.000000   \n",
       "75%        53.000000                41.250000                14.000000   \n",
       "max     14368.000000               528.000000               609.000000   \n",
       "\n",
       "       long_term_incentive         other  restricted_stock        salary  \\\n",
       "count         1.440000e+02  1.440000e+02      1.440000e+02  1.440000e+02   \n",
       "mean          3.369578e+05  2.947455e+05      8.685363e+05  1.854460e+05   \n",
       "std           6.871826e+05  1.131325e+06      2.016572e+06  1.970421e+05   \n",
       "min           0.000000e+00  0.000000e+00     -2.604490e+06  0.000000e+00   \n",
       "25%           0.000000e+00  0.000000e+00      2.434500e+04  0.000000e+00   \n",
       "50%           0.000000e+00  9.190000e+02      3.605280e+05  2.105960e+05   \n",
       "75%           3.745862e+05  1.485770e+05      7.374560e+05  2.696675e+05   \n",
       "max           5.145434e+06  1.035973e+07      1.476169e+07  1.111258e+06   \n",
       "\n",
       "       shared_receipt_with_poi   to_messages  total_payments  \\\n",
       "count               144.000000    144.000000    1.440000e+02   \n",
       "mean                702.611111   1238.555556    2.256543e+06   \n",
       "std                1077.290736   2237.564816    8.847189e+06   \n",
       "min                   0.000000      0.000000    0.000000e+00   \n",
       "25%                   0.000000      0.000000    9.019275e+04   \n",
       "50%                 114.000000    347.500000    9.413595e+05   \n",
       "75%                 933.750000   1623.000000    1.945668e+06   \n",
       "max                5521.000000  15149.000000    1.035598e+08   \n",
       "\n",
       "       total_stock_value  poi_ratio  fraction_to_poi  fraction_from_poi  \n",
       "count       1.440000e+02  86.000000        86.000000          86.000000  \n",
       "mean        2.909786e+06   4.770893        18.405548           3.796298  \n",
       "std         6.189018e+06   4.645513        21.061035           4.054439  \n",
       "min        -4.409300e+04   0.000000         0.000000           0.000000  \n",
       "25%         2.443265e+05   1.304333         1.242096           0.919988  \n",
       "50%         9.659550e+05   3.176610        10.057359           2.584537  \n",
       "75%         2.295176e+06   6.696795        27.203947           5.608871  \n",
       "max         4.911008e+07  22.435175       100.000000          21.734104  "
      ]
     },
     "execution_count": 9,
     "metadata": {},
     "output_type": "execute_result"
    }
   ],
   "source": [
    "poi_ratio = (df_subset['from_poi_to_this_person'] + df_subset['from_this_person_to_poi']) / (df_subset['from_messages'] + df_subset['to_messages'])\n",
    "fraction_to_poi = (df_subset['from_this_person_to_poi']) / (df_subset['from_messages'])\n",
    "fraction_from_poi = (df_subset['from_poi_to_this_person']) / (df_subset['to_messages'])\n",
    "scale = sklearn.preprocessing.MinMaxScaler(feature_range=(0, 100), copy=True)\n",
    "\n",
    "df_subset['poi_ratio'] = pandas.Series(poi_ratio) * 100\n",
    "df_subset['fraction_to_poi'] = pandas.Series(fraction_to_poi) * 100\n",
    "df_subset['fraction_from_poi'] = pandas.Series(fraction_from_poi) * 100\n",
    "salary_scaled = scale.fit_transform(df_subset['salary'])\n",
    "df_subset.describe()"
   ]
  },
  {
   "cell_type": "markdown",
   "metadata": {},
   "source": [
    "Let's visualize poi_ratio vs fraction_to_poi."
   ]
  },
  {
   "cell_type": "code",
   "execution_count": 10,
   "metadata": {
    "collapsed": false
   },
   "outputs": [
    {
     "data": {
      "image/png": "[encoded data removed]",
      "text/plain": [
       "<matplotlib.figure.Figure at 0x7f55d86e3090>"
      ]
     },
     "metadata": {},
     "output_type": "display_data"
    },
    {
     "name": "stdout",
     "output_type": "stream",
     "text": [
      "<ggplot: (8750417503021)>\n"
     ]
    }
   ],
   "source": [
    "from ggplot import *\n",
    "g = ggplot(aes(x='salary', y='fraction_to_poi', color='poi'), data=df_subset) + geom_point()\n",
    "print g"
   ]
  },
  {
   "cell_type": "code",
   "execution_count": 11,
   "metadata": {
    "collapsed": false
   },
   "outputs": [],
   "source": [
    "#### keep the engineered features added to data_dict\n",
    "my_dataset = enron_data"
   ]
  },
  {
   "cell_type": "markdown",
   "metadata": {},
   "source": [
    "### Training Classifier"
   ]
  },
  {
   "cell_type": "markdown",
   "metadata": {},
   "source": [
    "Split the data at first on training and test data. We will use Stratified Shuffle Split due to small dataset"
   ]
  },
  {
   "cell_type": "code",
   "execution_count": 12,
   "metadata": {
    "collapsed": false
   },
   "outputs": [
    {
     "name": "stdout",
     "output_type": "stream",
     "text": [
      "[0 0 0 0 1 0 0 0 0 0 0 0 0 0 0 0 1 0 0 0 0 0 0 0 0 0 0 0 0 0 1 0 0 0 0 0 0\n",
      " 0 0 0 0 1 0 0 0 0 0 0 0 0 0 0 0 1 0 0 0 0 0 0 1 0 0 0 0 1 0 0 0 0 0 0 0 0\n",
      " 0 0 1 0 0 0 0 0 1 0 0 1 0 1 1 0 0 0 0 0 0 1 0 0 0 0 0 0 0 0 0 0 0 0 0 0 0\n",
      " 0 0 0 0 0 0 0 0 0 0 0 0 1 1 0 0 0 0 0 0 0 0 1 0 0 0 0 0 0 1 0 0 1]\n",
      "[[  6.00000000e+05   0.00000000e+00   0.00000000e+00 ...,   4.66507177e+00\n",
      "    3.44827586e+00   4.70879802e+00]\n",
      " [  1.20000000e+06  -1.38605500e+06   6.68054400e+06 ...,   0.00000000e+00\n",
      "    0.00000000e+00   0.00000000e+00]\n",
      " [  3.50000000e+05  -4.00729000e+05   4.89034400e+06 ...,   0.00000000e+00\n",
      "    0.00000000e+00   0.00000000e+00]\n",
      " ..., \n",
      " [  6.00000000e+05   0.00000000e+00   3.18125000e+06 ...,   0.00000000e+00\n",
      "    0.00000000e+00   0.00000000e+00]\n",
      " [  8.00000000e+05  -3.00000000e+05   7.65920000e+05 ...,   2.24351747e+01\n",
      "    5.00000000e+01   2.17341040e+01]\n",
      " [  6.00000000e+05   0.00000000e+00   3.84728000e+05 ...,   6.52418448e+00\n",
      "    3.75000000e+01   5.95647194e+00]]\n"
     ]
    }
   ],
   "source": [
    "labels = df_subset['poi'].copy(deep=True).astype(int).as_matrix()\n",
    "features = (df_subset.drop('poi', axis=1)).fillna(0).copy(deep=True).as_matrix()\n",
    "shuffle = sklearn.cross_validation.StratifiedShuffleSplit(labels, 4, test_size=0.3, random_state=0)\n",
    "\n",
    "print labels\n",
    "print features"
   ]
  },
  {
   "cell_type": "markdown",
   "metadata": {},
   "source": [
    "Let's try four different initial models, and then start tune parameters of few models."
   ]
  },
  {
   "cell_type": "markdown",
   "metadata": {},
   "source": [
    "#### Random Forest"
   ]
  },
  {
   "cell_type": "code",
   "execution_count": 13,
   "metadata": {
    "collapsed": false
   },
   "outputs": [
    {
     "name": "stdout",
     "output_type": "stream",
     "text": [
      "[ 0.875       0.89583333  0.85416667]\n"
     ]
    }
   ],
   "source": [
    "from sklearn.ensemble import RandomForestClassifier\n",
    "\n",
    "rf_clf = RandomForestClassifier(n_estimators=10)\n",
    "scores = sklearn.cross_validation.cross_val_score(rf_clf, features, labels)\n",
    "\n",
    "print scores"
   ]
  },
  {
   "cell_type": "markdown",
   "metadata": {},
   "source": [
    "#### AdaBoost"
   ]
  },
  {
   "cell_type": "code",
   "execution_count": 14,
   "metadata": {
    "collapsed": false
   },
   "outputs": [
    {
     "name": "stdout",
     "output_type": "stream",
     "text": [
      "[ 0.85416667  0.85416667  0.77083333]\n"
     ]
    }
   ],
   "source": [
    "from sklearn.ensemble import AdaBoostClassifier\n",
    "\n",
    "ab_clf = AdaBoostClassifier(n_estimators=100)\n",
    "scores = sklearn.cross_validation.cross_val_score(ab_clf, features, labels)\n",
    "print scores "
   ]
  },
  {
   "cell_type": "markdown",
   "metadata": {},
   "source": [
    "#### Extremely Randomized Tree"
   ]
  },
  {
   "cell_type": "code",
   "execution_count": 15,
   "metadata": {
    "collapsed": false
   },
   "outputs": [
    {
     "name": "stdout",
     "output_type": "stream",
     "text": [
      "[ 0.875       0.89583333  0.83333333]\n"
     ]
    }
   ],
   "source": [
    "from sklearn.ensemble import ExtraTreesClassifier\n",
    "\n",
    "erf_clf = ExtraTreesClassifier(n_estimators=10, max_depth=None, min_samples_split=2, random_state=0)\n",
    "scores = sklearn.cross_validation.cross_val_score(erf_clf, features, labels)\n",
    "print scores"
   ]
  },
  {
   "cell_type": "markdown",
   "metadata": {},
   "source": [
    "#### Gaussian Naive Bayes"
   ]
  },
  {
   "cell_type": "code",
   "execution_count": 16,
   "metadata": {
    "collapsed": false
   },
   "outputs": [
    {
     "name": "stdout",
     "output_type": "stream",
     "text": [
      "[ 0.85416667  0.89583333  0.77083333]\n"
     ]
    }
   ],
   "source": [
    "from sklearn.naive_bayes import GaussianNB\n",
    "\n",
    "gnb_clf = GaussianNB()\n",
    "scores = sklearn.cross_validation.cross_val_score(gnb_clf, features, labels)\n",
    "print scores"
   ]
  },
  {
   "cell_type": "markdown",
   "metadata": {},
   "source": [
    "### Tunning Choosen Classifiers"
   ]
  },
  {
   "cell_type": "markdown",
   "metadata": {},
   "source": [
    "Choosen Algorithms:\n",
    "\n",
    "- Random Forest\n",
    "- AdaBoost\n",
    "\n",
    "Why not SVM? It's too slow for tuning, i want more computational time efficient algorithm.\n",
    "\n",
    "Why not NB? It's too simple, and from initial scores it's seems not to be good choose.\n",
    "\n",
    "Why not Extremely Randomized Forest? It's too complicated for tuning."
   ]
  },
  {
   "cell_type": "markdown",
   "metadata": {},
   "source": [
    "#### Tuning Random Forest"
   ]
  },
  {
   "cell_type": "markdown",
   "metadata": {},
   "source": [
    "Let's investigate main parameters of random forest:\n",
    "\n",
    "- min_samples_split\n",
    "- n_estimators\n",
    "- min_samples_leaf\n",
    "- criterion"
   ]
  },
  {
   "cell_type": "code",
   "execution_count": 17,
   "metadata": {
    "collapsed": false
   },
   "outputs": [
    {
     "name": "stderr",
     "output_type": "stream",
     "text": [
      "/home/danny/anaconda3/envs/data2/lib/python2.7/site-packages/sklearn/grid_search.py:43: DeprecationWarning: This module was deprecated in version 0.18 in favor of the model_selection module into which all the refactored classes and functions are moved. This module will be removed in 0.20.\n",
      "  DeprecationWarning)\n",
      "/home/danny/anaconda3/envs/data2/lib/python2.7/site-packages/sklearn/metrics/classification.py:1113: UndefinedMetricWarning: F-score is ill-defined and being set to 0.0 in labels with no predicted samples.\n",
      "  'precision', 'predicted', average, warn_for)\n"
     ]
    },
    {
     "name": "stdout",
     "output_type": "stream",
     "text": [
      "RandomForestClassifier(bootstrap=True, class_weight=None, criterion='gini',\n",
      "            max_depth=6, max_features='auto', max_leaf_nodes=None,\n",
      "            min_impurity_split=1e-07, min_samples_leaf=1,\n",
      "            min_samples_split=2, min_weight_fraction_leaf=0.0,\n",
      "            n_estimators=20, n_jobs=1, oob_score=False, random_state=None,\n",
      "            verbose=0, warm_start=False)\n",
      "0.687016687017\n"
     ]
    }
   ],
   "source": [
    "from sklearn import grid_search\n",
    "\n",
    "cv = sklearn.cross_validation.StratifiedShuffleSplit(labels, n_iter=10)\n",
    "\n",
    "def scoring(estimator, features_test, labels_test):\n",
    "     labels_pred = estimator.predict(features_test)\n",
    "     p = sklearn.metrics.precision_score(labels_test, labels_pred, average='micro')\n",
    "     r = sklearn.metrics.recall_score(labels_test, labels_pred, average='micro')\n",
    "     if p > 0.3 and r > 0.3:\n",
    "            return sklearn.metrics.f1_score(labels_test, labels_pred, average='macro')\n",
    "     return 0\n",
    "                                     \n",
    "parameters = {'max_depth': [2,3,4,5,6],'min_samples_split':[2,3,4,5], 'n_estimators':[10,20,50], 'min_samples_leaf':[1,2,3,4], 'criterion':('gini', 'entropy')}\n",
    "rf_clf = RandomForestClassifier()\n",
    "rfclf = grid_search.GridSearchCV(rf_clf, parameters, scoring = scoring, cv = cv)\n",
    "rfclf.fit(features, labels)\n",
    "\n",
    "print rfclf.best_estimator_\n",
    "print rfclf.best_score_"
   ]
  },
  {
   "cell_type": "markdown",
   "metadata": {},
   "source": [
    "#### Tuning AdaBoost"
   ]
  },
  {
   "cell_type": "markdown",
   "metadata": {},
   "source": [
    "Let's investigate main parameters of adaboost:\n",
    "\n",
    "- n_estimators\n",
    "- learning_rate\n",
    "- algorithm"
   ]
  },
  {
   "cell_type": "code",
   "execution_count": 18,
   "metadata": {
    "collapsed": false
   },
   "outputs": [
    {
     "name": "stdout",
     "output_type": "stream",
     "text": [
      "AdaBoostClassifier(algorithm='SAMME.R',\n",
      "          base_estimator=DecisionTreeClassifier(class_weight=None, criterion='gini', max_depth=8,\n",
      "            max_features=None, max_leaf_nodes=None,\n",
      "            min_impurity_split=1e-07, min_samples_leaf=1,\n",
      "            min_samples_split=2, min_weight_fraction_leaf=0.0,\n",
      "            presort=False, random_state=None, splitter='best'),\n",
      "          learning_rate=2.5, n_estimators=5, random_state=None)\n",
      "0.701098549599\n"
     ]
    }
   ],
   "source": [
    "from sklearn import grid_search\n",
    "from sklearn.tree import DecisionTreeClassifier\n",
    "from sklearn.svm import SVC\n",
    "parameters = {'n_estimators' : [5, 10, 30, 40, 50, 100,150], 'learning_rate' : [0.1, 0.5, 1, 1.5, 2, 2.5], 'algorithm' : ('SAMME', 'SAMME.R')}\n",
    "ada_clf = AdaBoostClassifier(DecisionTreeClassifier(max_depth=8))\n",
    "adaclf = grid_search.GridSearchCV(ada_clf, parameters, scoring = scoring, cv = cv)\n",
    "adaclf.fit(features, labels)\n",
    "\n",
    "print adaclf.best_estimator_\n",
    "print adaclf.best_score_"
   ]
  },
  {
   "cell_type": "markdown",
   "metadata": {},
   "source": [
    "### Testing Classifier"
   ]
  },
  {
   "cell_type": "markdown",
   "metadata": {},
   "source": [
    "#### Testing Random Forest best estimator"
   ]
  },
  {
   "cell_type": "code",
   "execution_count": 19,
   "metadata": {
    "collapsed": false
   },
   "outputs": [
    {
     "name": "stdout",
     "output_type": "stream",
     "text": [
      "RandomForestClassifier(bootstrap=True, class_weight=None, criterion='gini',\n",
      "            max_depth=6, max_features='auto', max_leaf_nodes=None,\n",
      "            min_impurity_split=1e-07, min_samples_leaf=1,\n",
      "            min_samples_split=2, min_weight_fraction_leaf=0.0,\n",
      "            n_estimators=20, n_jobs=1, oob_score=False, random_state=None,\n",
      "            verbose=0, warm_start=False)\n",
      "\tAccuracy: 0.85867\tPrecision: 0.41429\tRecall: 0.14500\tF1: 0.21481\tF2: 0.16667\n",
      "\tTotal predictions: 15000\tTrue positives:  290\tFalse positives:  410\tFalse negatives: 1710\tTrue negatives: 12590\n",
      "\n"
     ]
    }
   ],
   "source": [
    "rf_best_clf = rfclf.best_estimator_\n",
    "list_cols = list(df_subset.columns.values)\n",
    "list_cols.remove('poi')\n",
    "list_cols.insert(0, 'poi')\n",
    "data = df_subset[list_cols].fillna(0).to_dict(orient='records')\n",
    "enron_data_sub = {}\n",
    "counter = 0\n",
    "for item in data:\n",
    "    enron_data_sub[counter] = item\n",
    "    counter += 1\n",
    "    \n",
    "test_classifier(rf_best_clf, enron_data_sub, list_cols)\n"
   ]
  },
  {
   "cell_type": "markdown",
   "metadata": {},
   "source": [
    "#### Testing AdaBoost best estimator"
   ]
  },
  {
   "cell_type": "code",
   "execution_count": 21,
   "metadata": {
    "collapsed": false
   },
   "outputs": [
    {
     "name": "stdout",
     "output_type": "stream",
     "text": [
      "AdaBoostClassifier(algorithm='SAMME.R',\n",
      "          base_estimator=DecisionTreeClassifier(class_weight=None, criterion='gini', max_depth=8,\n",
      "            max_features=None, max_leaf_nodes=None,\n",
      "            min_impurity_split=1e-07, min_samples_leaf=1,\n",
      "            min_samples_split=2, min_weight_fraction_leaf=0.0,\n",
      "            presort=False, random_state=None, splitter='best'),\n",
      "          learning_rate=2.5, n_estimators=5, random_state=None)\n",
      "\tAccuracy: 0.81207\tPrecision: 0.29412\tRecall: 0.29250\tF1: 0.29331\tF2: 0.29282\n",
      "\tTotal predictions: 15000\tTrue positives:  585\tFalse positives: 1404\tFalse negatives: 1415\tTrue negatives: 11596\n",
      "\n"
     ]
    }
   ],
   "source": [
    "ada_best_clf = adaclf.best_estimator_\n",
    "test_classifier(ada_best_clf, enron_data_sub, list_cols)"
   ]
  },
  {
   "cell_type": "markdown",
   "metadata": {},
   "source": [
    "### Dump successful classifier"
   ]
  },
  {
   "cell_type": "markdown",
   "metadata": {},
   "source": [
    "AdaBoost beat random forest overall and Time saver."
   ]
  },
  {
   "cell_type": "code",
   "execution_count": 22,
   "metadata": {
    "collapsed": false
   },
   "outputs": [],
   "source": [
    "dump_classifier_and_data(ada_best_clf, enron_data_sub, list_cols)"
   ]
  },
  {
   "cell_type": "markdown",
   "metadata": {},
   "source": [
    "### List Of Resources"
   ]
  },
  {
   "cell_type": "markdown",
   "metadata": {},
   "source": [
    "- udacity: https://www.udacity.com\n",
    "- wikipedia: https://en.wikipedia.org/wiki/Enron_scandal\n",
    "- sklearn documentation: http://www.scikit-learn.org/stable/index.html\n",
    "- pandas documentation: http://www.pandas.pydata.org"
   ]
  }
 ],
 "metadata": {
  "anaconda-cloud": {},
  "kernelspec": {
   "display_name": "Python [conda env:data2]",
   "language": "python",
   "name": "conda-env-data2-py"
  },
  "language_info": {
   "codemirror_mode": {
    "name": "ipython",
    "version": 2
   },
   "file_extension": ".py",
   "mimetype": "text/x-python",
   "name": "python",
   "nbconvert_exporter": "python",
   "pygments_lexer": "ipython2",
   "version": "2.7.13"
  }
 },
 "nbformat": 4,
 "nbformat_minor": 0
}
